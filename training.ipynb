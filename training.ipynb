{
 "cells": [
  {
   "cell_type": "code",
   "execution_count": null,
   "metadata": {},
   "outputs": [],
   "source": [
    "import wandb\n",
    "import pytorch_lightning as pl\n",
    "from pytorch_lightning.loggers import WandbLogger\n",
    "import glob\n",
    "from torch.utils.data import DataLoader\n",
    "\n",
    "# Import your model definitions\n",
    "from training.models.deeplab import Deeplab\n",
    "from training.models.deeplab_restnet101 import Deeplab_RestNet_101\n",
    "from training.models.unet import UNet\n",
    "from training.models.unet_resnet34 import UNetResNet\n",
    "\n",
    "# Import your dataset and testing utilities\n",
    "from training.dataset import CustomDataset\n",
    "from training.test_utils import test_model\n"
   ]
  },
  {
   "cell_type": "code",
   "execution_count": null,
   "metadata": {},
   "outputs": [],
   "source": [
    "SAMPLES_DIR = \"data_samples\"\n",
    "\n",
    "def train_dataloader():\n",
    "    samples = glob.glob(SAMPLES_DIR + \"/train/**/*.npy\", recursive=True)\n",
    "    dataset = CustomDataset(numpy_files=samples)\n",
    "    return DataLoader(dataset, batch_size=1, shuffle=True, drop_last=True) # batch_size=1 for showcase\n",
    "\n",
    "def validation_dataloader():\n",
    "    samples = glob.glob(SAMPLES_DIR + \"/val/**/*.npy\", recursive=True)\n",
    "    dataset = CustomDataset(numpy_files=samples)\n",
    "    return DataLoader(dataset, batch_size=1, shuffle=True, drop_last=True) # batch_size=1 for showcase\n",
    "\n",
    "def test_dataloader():\n",
    "    samples = glob.glob(SAMPLES_DIR + \"/test/**/*.npy\", recursive=True)\n",
    "    dataset = CustomDataset(numpy_files=samples)\n",
    "    return DataLoader(dataset, batch_size=1, shuffle=False, drop_last=True) # batch_size=1 for showcase\n"
   ]
  },
  {
   "cell_type": "code",
   "execution_count": null,
   "metadata": {},
   "outputs": [],
   "source": [
    "models = {\n",
    "    \"Deeplab_restnet_50\": Deeplab_RestNet_101(num_classes=9),\n",
    "    \"Unet\": UNet(in_channels=3, out_channels=10),\n",
    "    \"UNetResNet\": UNetResNet(in_channels=3, out_channels=10),\n",
    "    \"Deeplab_restnet_101\": Deeplab_RestNet_101(num_classes=9)\n",
    "}\n"
   ]
  },
  {
   "cell_type": "code",
   "execution_count": null,
   "metadata": {},
   "outputs": [],
   "source": [
    "wandb_logger = WandbLogger(project='car-segmentation')\n",
    "\n",
    "model = models[\"Deeplab_restnet_101\"]\n",
    "trainer = pl.Trainer(max_epochs=20, logger=wandb_logger, log_every_n_steps=1)\n",
    "trainer.fit(model, train_dataloader(), validation_dataloader())\n",
    "\n",
    "# Run testing after training\n",
    "mean_iou = test_model(model, test_dataloader())\n",
    "\n",
    "print(f\"Mean IoU on the test set: {mean_iou}\")\n",
    "wandb.finish()"
   ]
  }
 ],
 "metadata": {
  "kernelspec": {
   "display_name": "Python 3",
   "language": "python",
   "name": "python3"
  },
  "language_info": {
   "codemirror_mode": {
    "name": "ipython",
    "version": 3
   },
   "file_extension": ".py",
   "mimetype": "text/x-python",
   "name": "python",
   "nbconvert_exporter": "python",
   "pygments_lexer": "ipython3",
   "version": "3.11.5"
  }
 },
 "nbformat": 4,
 "nbformat_minor": 2
}
